{
 "cells": [
  {
   "cell_type": "markdown",
   "id": "9abdbd30",
   "metadata": {},
   "source": [
    "# Codecademy insurance portfolio project"
   ]
  },
  {
   "cell_type": "markdown",
   "id": "841bc277",
   "metadata": {},
   "source": [
    "In this project I will be using a medical insurance costs dataset. I will analyze the data and its attributes to find out which attributes have "
   ]
  },
  {
   "cell_type": "code",
   "execution_count": 2,
   "id": "e42ce63d",
   "metadata": {},
   "outputs": [],
   "source": [
    "import csv\n",
    "import pandas as pd\n",
    "import math"
   ]
  },
  {
   "cell_type": "markdown",
   "id": "ba1aa928",
   "metadata": {},
   "source": [
    "Next open and read the data inside the csv file."
   ]
  },
  {
   "cell_type": "code",
   "execution_count": 3,
   "id": "fb9a226d",
   "metadata": {},
   "outputs": [],
   "source": [
    "# class to make a list of all the attributes to easily include in our defenitions.\n",
    "\n",
    "class Insurance_attributes:\n",
    "    def __init__(self, csv_file):\n",
    "        self.show_dict = []\n",
    "        self.age = []\n",
    "        self.sex = []\n",
    "        self.bmi = []\n",
    "        self.children = []\n",
    "        self.smoker = []\n",
    "        self.region = []\n",
    "        self.charges = float_charges = []\n",
    "        with open(csv_file) as insurance_csv:\n",
    "            csv_dict = csv.DictReader(insurance_csv)\n",
    "            for i in csv_dict:\n",
    "                self.show_dict.append(i)\n",
    "            for att in self.show_dict:\n",
    "                self.age.append(att[\"age\"])\n",
    "                self.sex.append(att[\"sex\"])\n",
    "                self.bmi.append(att[\"bmi\"])\n",
    "                self.children.append(att[\"children\"])\n",
    "                self.smoker.append(att[\"smoker\"])\n",
    "                self.region.append(att[\"region\"])\n",
    "            for float_charge in self.show_dict:\n",
    "                float_charges.append(float(float_charge[\"charges\"]))\n",
    "\n",
    "            \n",
    "\n",
    "            \n",
    "                \n",
    "                \n",
    "insurance_dict = Insurance_attributes(\"C:\\\\Users\\\\luisl\\\\OneDrive\\\\Documents\\\\insurance.csv\")\n"
   ]
  },
  {
   "cell_type": "code",
   "execution_count": null,
   "id": "0baa01c5",
   "metadata": {},
   "outputs": [],
   "source": []
  },
  {
   "cell_type": "markdown",
   "id": "d015a2cf",
   "metadata": {},
   "source": [
    "Goals for this dataset:\n",
    "- Find out if the dataset represents every attribute fairly.\n",
    "- detrmine how many patients each reagion has.\n",
    "- detrmine the average charges for all patients and also how male and female average charges compare.\n",
    "- which categroy has the highest charges on average.\n",
    "- find out which attribute has the highest charges."
   ]
  },
  {
   "cell_type": "markdown",
   "id": "f5a34e6c",
   "metadata": {},
   "source": [
    "1. Find out if dataset represents everyone fairly"
   ]
  },
  {
   "cell_type": "code",
   "execution_count": 4,
   "id": "b0e61942",
   "metadata": {},
   "outputs": [
    {
     "name": "stdout",
     "output_type": "stream",
     "text": [
      "There are a total of 1338 records in the dataset.In this dataset 50.52% of patients have their sex listed as male and 49.48% as female.\n"
     ]
    }
   ],
   "source": [
    "# total records in dataset\n",
    "def total_records(record_lst):\n",
    "    all_records = len(record_lst)\n",
    "    return \"There are a total of \" + str(all_records) + \" records in the dataset.\"\n",
    "\n",
    "\n",
    "def male_female_rep(male_female_list):\n",
    "    male = 0\n",
    "    female = 0\n",
    "    for mf in male_female_list:\n",
    "        if mf == \"male\":\n",
    "            male += 1\n",
    "        if mf == \"female\":\n",
    "            female += 1\n",
    "    m_percent = round(((male/len(male_female_list)) * 100), 2)\n",
    "    f_percent = round(((female/len(male_female_list)) * 100), 2)\n",
    "    return f\"In this dataset {m_percent}% of patients have their sex listed as male and {f_percent}% as female.\"\n",
    "      \n",
    "total_and_malefemale =  total_records(insurance_dict.show_dict) + male_female_rep(insurance_dict.sex)\n",
    "print(total_and_malefemale)"
   ]
  },
  {
   "cell_type": "markdown",
   "id": "f4273eb8",
   "metadata": {},
   "source": [
    "2. detrmine how many patients each reagion has."
   ]
  },
  {
   "cell_type": "code",
   "execution_count": 5,
   "id": "7e7cdfee",
   "metadata": {},
   "outputs": [
    {
     "name": "stdout",
     "output_type": "stream",
     "text": [
      "here is the number of records in each region: {'southwest': 325, 'southeast': 364, 'northwest': 325, 'northeast': 324}\n"
     ]
    }
   ],
   "source": [
    "# find each ragion\n",
    "\n",
    "unique_region = []\n",
    "for i in insurance_dict.region:\n",
    "    if i not in unique_region:\n",
    "        unique_region.append(i)\n",
    "# print(unique_region)\n",
    "\n",
    "#count how many patients in each region\n",
    "\n",
    "def patient_region_info(value_lst):\n",
    "    region_dict = {'southwest': 0, 'southeast': 0, 'northwest': 0, 'northeast': 0}\n",
    "    for regions in value_lst:\n",
    "        regions = regions[\"region\"]\n",
    "        if regions == 'southwest':\n",
    "            region_dict[\"southwest\"] +=1\n",
    "        elif regions == 'southeast':\n",
    "            region_dict[\"southeast\"] +=1\n",
    "        elif regions == 'northwest':\n",
    "            region_dict[\"northwest\"] +=1\n",
    "        elif regions == 'northeast':\n",
    "            region_dict['northeast'] +=1\n",
    "    region_charges = {'southwest': 0, 'southeast': 0, 'northwest': 0, 'northeast': 0}\n",
    "    return region_dict\n",
    "region_info = patient_region_info(insurance_dict.show_dict)\n",
    "print(\"here is the number of records in each region: \" + str(region_info))\n"
   ]
  },
  {
   "cell_type": "markdown",
   "id": "90223bba",
   "metadata": {},
   "source": [
    "3. highest average region and male female averages"
   ]
  },
  {
   "cell_type": "code",
   "execution_count": 6,
   "id": "da1a4f0e",
   "metadata": {},
   "outputs": [
    {
     "name": "stdout",
     "output_type": "stream",
     "text": [
      "Here is the average charges in each region: {'southwest': 12346.94, 'southeast': 14735.41, 'northwest': 12417.58, 'northeast': 13406.38}\n",
      "The region with the highest average charges is southeast with 14735.41.\n"
     ]
    }
   ],
   "source": [
    "# average charges for each region in our dataset.\n",
    "def region_and_charges(insurance_list):\n",
    "    lst_charges = []\n",
    "    for i in insurance_list:\n",
    "        lst_charges.append(i[\"charges\"])\n",
    "    t_charges = tuple(lst_charges)\n",
    "\n",
    "    z_lst = list((zip(insurance_dict.region, t_charges)))\n",
    "    southwest = []\n",
    "    southeast = []\n",
    "    northwest = []\n",
    "    northeast = []\n",
    "    for i in z_lst:\n",
    "        if i[0] == \"southwest\":\n",
    "            southwest.append(float(i[1]))\n",
    "        elif i[0] == \"southeast\":\n",
    "            southeast.append(float(i[1]))\n",
    "        elif i[0] == \"northwest\":\n",
    "            northwest.append(float(i[1]))\n",
    "        elif i[0] == \"northeast\":\n",
    "            northeast.append(float(i[1]))\n",
    "    region_charges = {'southwest': 0, 'southeast': 0, 'northwest': 0, 'northeast': 0}\n",
    "    region_charges[\"southwest\"] = round((sum(southwest)/len(southwest)), 2)\n",
    "    region_charges[\"southeast\"] = round((sum(southeast)/len(southeast)), 2)\n",
    "    region_charges[\"northeast\"] = round((sum(northeast)/len(northeast)), 2)\n",
    "    region_charges[\"northwest\"] = round((sum(northwest)/len(northwest)), 2)\n",
    "    highest_charge_region = \"\"\n",
    "    if region_charges[\"southwest\"] > region_charges[\"southeast\"] and region_charges[\"northwest\"] and region_charges[\"northeast\"]:\n",
    "        highest_charge_region = \"The region with the highest average charges is southwest with \" + str(region_charges[\"southwest\"])\n",
    "    elif region_charges[\"southeast\"] > region_charges[\"southwest\"] and region_charges[\"northwest\"] and region_charges[\"northeast\"]:\n",
    "        highest_charge_region = \"The region with the highest average charges is southeast with \" + str(region_charges[\"southeast\"])\n",
    "    elif region_charges[\"northwest\"] > region_charges[\"southwest\"] and region_charges[\"southeast\"] and region_charges[\"northeast\"]:\n",
    "        highest_charge_region = \"The region with the highest average charges is northwest with \" + str(region_charges[\"northwest\"])\n",
    "    elif region_charges[\"northeast\"] > region_charges[\"southwest\"] and region_charges[\"southeast\"] and region_charges[\"northwest\"]:\n",
    "        highest_charge_region = \"The region with the highest average charges is northwest with \" + str(region_charges[\"northwest\"])\n",
    "    else:\n",
    "        highest_charge_region = \"more than one region has the same amount of charges\"\n",
    "    return region_charges, highest_charge_region\n",
    "\n",
    "avg_region_charges = region_and_charges(insurance_dict.show_dict)\n",
    "print(\"Here is the average charges in each region: \" + str(avg_region_charges[0]) + \"\\n\" + str(avg_region_charges[1]) +\".\")\n"
   ]
  },
  {
   "cell_type": "code",
   "execution_count": 7,
   "id": "9beaad3b",
   "metadata": {
    "scrolled": true
   },
   "outputs": [
    {
     "name": "stdout",
     "output_type": "stream",
     "text": [
      "The average charges for all patitens in the dataset is $13270.42. The average male charges is $13956.75 and average female charges are $12569.58\n",
      "The average charges for male patients $1387.17 more than the average for female patients.\n",
      "The average charges for female patients is $1387.17 less than the average for males.\n",
      "The average charges for female patients is $701 less than the average for all.\n"
     ]
    }
   ],
   "source": [
    "#avrage charges for male and female.\n",
    "\n",
    "def avg_sex_charges(sex, charges):\n",
    "    sex_charges_lst = list(zip(sex, charges))\n",
    "    male = []\n",
    "    female = []\n",
    "    for values in sex_charges_lst:\n",
    "        if values[0] == \"male\":\n",
    "            male.append(values[1])\n",
    "        elif values[0] == \"female\":\n",
    "            female.append(values[1])\n",
    "    avg_male = sum(male)/len(male)    \n",
    "    avg_female = sum(female)/len(female)\n",
    "    avg_all = (sum(male) + sum(female))/(len(male) + len(female))\n",
    "    male_diff = \"\"\n",
    "    female_diff = \"\"\n",
    "    avg_diff = \"\" \n",
    "    # avgrage male compared to average female charges.\n",
    "    if avg_male > avg_female:\n",
    "        male_diff = \"The average charges for male patients $\"+ str(round(avg_male - avg_female, 2)) +\" more than the average for female patients.\"\n",
    "    elif avg_male < avg_female:\n",
    "        male_diff = \"the average charges for male patients $\" + str(round(avg_male - avg_female, 2)) + \" less than the avearge for female patients.\"\n",
    "    #the average for female and all\n",
    "    if avg_female > avg_male:\n",
    "        female_diff = \"The average charges for female patients is $\" + str(round(avg_female  - avg_male, 2)) + \" more than the average for male patients.\" \n",
    "    elif avg_female < avg_male:\n",
    "        female_diff = \"The average charges for female patients is $\" + str((abs(round(avg_female - avg_male, 2)))) + \" less than the average for males.\"\n",
    "    # the averege male and female compared to all\n",
    "    if avg_male > avg_all:\n",
    "        avg_diff = \"The average charges for male patients $\" + str(round(avg_male - avg_all, 2)) +\" more than the average for all patients.\" \n",
    "    elif avg_male < avg_all:\n",
    "        avg_diff = \"the average charges for male patients is $\" + str(round(abs(avg_male - avg_all))) + \" less than average for all\"\n",
    "    if avg_female > avg_all:\n",
    "        avg_diff = \"The average charges for female patients is $\" + str(round(avg_female - avg_all)) + \" more than the average for all\"\n",
    "    elif avg_female < avg_all:\n",
    "        avg_diff = \"The average charges for female patients is $\" + str(round(abs(avg_female - avg_all))) + \" less than the average for all\"\n",
    "    return f\"The average charges for all patitens in the dataset is ${round(avg_all, 2)}. The average male charges is ${round(avg_male, 2)} and average female charges are ${round(avg_female, 2)}\\n{male_diff}\\n{female_diff}\\n{avg_diff}.\"\n",
    "avg_charges_each_sex = avg_sex_charges(insurance_dict.sex, insurance_dict.charges)\n",
    "print(avg_charges_each_sex)"
   ]
  },
  {
   "cell_type": "markdown",
   "id": "7c2d10a6",
   "metadata": {},
   "source": [
    "4. Which category has the highest charges on average."
   ]
  },
  {
   "cell_type": "code",
   "execution_count": 22,
   "id": "06bb8033",
   "metadata": {},
   "outputs": [
    {
     "name": "stdout",
     "output_type": "stream",
     "text": [
      "34456.35 7345.41\n",
      "5993.777951955439\n"
     ]
    },
    {
     "data": {
      "text/plain": [
       "7.0"
      ]
     },
     "execution_count": 22,
     "metadata": {},
     "output_type": "execute_result"
    }
   ],
   "source": [
    "smoker = []\n",
    "non_smoker = []\n",
    "children = []\n",
    "no_children = []\n",
    "for i in insurance_dict.show_dict:\n",
    "    if i[\"smoker\"] == \"yes\":\n",
    "        smoker.append(float(i[\"charges\"]))\n",
    "    elif i[\"smoker\"] == \"no\":\n",
    "        non_smoker.append(float(i[\"charges\"]))\n",
    "    \n",
    "#getting the median of smoker vs non smoker\n",
    "\n",
    "def median(data):\n",
    "    data = sorted(data)\n",
    "    index_num = len(data) // 2\n",
    "    \n",
    "    if (len(data) % 2) != 0:\n",
    "        return round(data[index_num], 2)\n",
    "    return round((data[index_num - 1] + data[index_num])/2, 2)\n",
    "\n",
    "def Sample_sd(lst):\n",
    "    mean = int(sum(lst)/len(lst))\n",
    "    amnt_num = len(lst)\n",
    "    lst_sqd = []\n",
    "    for nums in lst:\n",
    "        squared = (int(nums) - mean)**2\n",
    "        lst_sqd.append(squared)\n",
    "    sum_sqd_lst = sum(lst_sqd)\n",
    "    divide_lst = sum_sqd_lst/ (amnt_num -1)\n",
    "    sqroot = math.sqrt(divide_lst)\n",
    "    return sqroot\n",
    "smoker_median = median(smoker)   \n",
    "non_smoker_median = median(non_smoker)\n",
    "print(smoker_median, non_smoker_median)\n",
    "\n",
    "print(Sample_sd(non_smoker))\n",
    "avg = sum(smoker)/ len(smoker)\n",
    "math.sqrt(49)"
   ]
  },
  {
   "cell_type": "code",
   "execution_count": null,
   "id": "63312f03",
   "metadata": {},
   "outputs": [],
   "source": []
  },
  {
   "cell_type": "code",
   "execution_count": null,
   "id": "9b4fe333",
   "metadata": {},
   "outputs": [],
   "source": []
  },
  {
   "cell_type": "markdown",
   "id": "9e5a55d4",
   "metadata": {},
   "source": [
    "# Tests"
   ]
  },
  {
   "cell_type": "code",
   "execution_count": null,
   "id": "2df396b1",
   "metadata": {},
   "outputs": [],
   "source": []
  },
  {
   "cell_type": "code",
   "execution_count": 7,
   "id": "3efb4a43",
   "metadata": {},
   "outputs": [
    {
     "name": "stdout",
     "output_type": "stream",
     "text": [
      "      age     sex     bmi  children smoker     region      charges\n",
      "0      19  female  27.900         0    yes  southwest  16884.92400\n",
      "1      18    male  33.770         1     no  southeast   1725.55230\n",
      "2      28    male  33.000         3     no  southeast   4449.46200\n",
      "3      33    male  22.705         0     no  northwest  21984.47061\n",
      "4      32    male  28.880         0     no  northwest   3866.85520\n",
      "...   ...     ...     ...       ...    ...        ...          ...\n",
      "1333   50    male  30.970         3     no  northwest  10600.54830\n",
      "1334   18  female  31.920         0     no  northeast   2205.98080\n",
      "1335   18  female  36.850         0     no  southeast   1629.83350\n",
      "1336   21  female  25.800         0     no  southwest   2007.94500\n",
      "1337   61  female  29.070         0    yes  northwest  29141.36030\n",
      "\n",
      "[1338 rows x 7 columns]\n"
     ]
    }
   ],
   "source": [
    "readcsv = pd.read_csv(\"C:\\\\Users\\\\luisl\\\\OneDrive\\\\Documents\\\\insurance.csv\")\n",
    "print(readcsv)"
   ]
  },
  {
   "cell_type": "code",
   "execution_count": 8,
   "id": "712fab17",
   "metadata": {},
   "outputs": [
    {
     "name": "stdout",
     "output_type": "stream",
     "text": [
      "               age          bmi     children       charges\n",
      "count  1338.000000  1338.000000  1338.000000   1338.000000\n",
      "mean     39.207025    30.663397     1.094918  13270.422265\n",
      "std      14.049960     6.098187     1.205493  12110.011237\n",
      "min      18.000000    15.960000     0.000000   1121.873900\n",
      "25%      27.000000    26.296250     0.000000   4740.287150\n",
      "50%      39.000000    30.400000     1.000000   9382.033000\n",
      "75%      51.000000    34.693750     2.000000  16639.912515\n",
      "max      64.000000    53.130000     5.000000  63770.428010\n"
     ]
    }
   ],
   "source": [
    "df = pd.DataFrame(readcsv)\n",
    "print(df.describe())"
   ]
  },
  {
   "cell_type": "code",
   "execution_count": 9,
   "id": "8dbbfd8f",
   "metadata": {},
   "outputs": [
    {
     "data": {
      "text/plain": [
       "age         0\n",
       "sex         0\n",
       "bmi         0\n",
       "children    0\n",
       "smoker      0\n",
       "region      0\n",
       "charges     0\n",
       "dtype: int64"
      ]
     },
     "execution_count": 9,
     "metadata": {},
     "output_type": "execute_result"
    }
   ],
   "source": [
    "readcsv.isnull().sum()"
   ]
  },
  {
   "cell_type": "code",
   "execution_count": 43,
   "id": "949d4ec1",
   "metadata": {},
   "outputs": [
    {
     "name": "stdout",
     "output_type": "stream",
     "text": [
      "female\n"
     ]
    }
   ],
   "source": []
  }
 ],
 "metadata": {
  "kernelspec": {
   "display_name": "Python 3 (ipykernel)",
   "language": "python",
   "name": "python3"
  },
  "language_info": {
   "codemirror_mode": {
    "name": "ipython",
    "version": 3
   },
   "file_extension": ".py",
   "mimetype": "text/x-python",
   "name": "python",
   "nbconvert_exporter": "python",
   "pygments_lexer": "ipython3",
   "version": "3.9.7"
  }
 },
 "nbformat": 4,
 "nbformat_minor": 5
}
