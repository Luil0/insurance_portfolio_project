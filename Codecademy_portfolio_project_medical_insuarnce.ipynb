{
 "cells": [
  {
   "cell_type": "markdown",
   "id": "9abdbd30",
   "metadata": {},
   "source": [
    "# Codecademy insurance portfolio project"
   ]
  },
  {
   "cell_type": "markdown",
   "id": "841bc277",
   "metadata": {},
   "source": [
    "In this project I will be using a medical insurance costs dataset. I will analyze the data and its attributes to find out which attributes have "
   ]
  },
  {
   "cell_type": "code",
   "execution_count": 3,
   "id": "e42ce63d",
   "metadata": {},
   "outputs": [],
   "source": [
    "import csv\n",
    "import pandas as pd"
   ]
  },
  {
   "cell_type": "markdown",
   "id": "ba1aa928",
   "metadata": {},
   "source": [
    "Next open and read the data inside the csv file."
   ]
  },
  {
   "cell_type": "code",
   "execution_count": 4,
   "id": "fb9a226d",
   "metadata": {},
   "outputs": [],
   "source": [
    "# class to make a list of all the attributes to easily include in our defenitions.\n",
    "\n",
    "class Insurance_attributes:\n",
    "    def __init__(self, csv_file):\n",
    "        self.show_dict = []\n",
    "        self.age = []\n",
    "        self.sex = []\n",
    "        self.bmi = []\n",
    "        self.children = []\n",
    "        self.smoker = []\n",
    "        self.region = []\n",
    "        self.charges = []\n",
    "        with open(csv_file) as insurance_csv:\n",
    "            csv_dict = csv.DictReader(insurance_csv)\n",
    "            for i in csv_dict:\n",
    "                self.show_dict.append(i)\n",
    "            for att in self.show_dict:\n",
    "                self.age.append(att[\"age\"])\n",
    "                self.sex.append(att[\"sex\"])\n",
    "                self.bmi.append(att[\"bmi\"])\n",
    "                self.children.append(att[\"children\"])\n",
    "                self.smoker.append(att[\"smoker\"])\n",
    "                self.region.append(att[\"region\"])\n",
    "                self.charges.append(att[\"charges\"])\n",
    "            \n",
    "\n",
    "            \n",
    "                \n",
    "                \n",
    "insurance_dict = Insurance_attributes(\"C:\\\\Users\\\\luisl\\\\OneDrive\\\\Documents\\\\insurance.csv\")"
   ]
  },
  {
   "cell_type": "code",
   "execution_count": null,
   "id": "0baa01c5",
   "metadata": {},
   "outputs": [],
   "source": []
  },
  {
   "cell_type": "markdown",
   "id": "d015a2cf",
   "metadata": {},
   "source": [
    "Here are the goals for this dataset:\n",
    "- Find out if the dataset represents every attribute fairly.\n",
    "- find our which attribute has the highest charges.\n",
    "- detrmine the average charges for all patients and also how male and female avrage charges compare.\n",
    "- detrime which region the patitens are from.\n",
    "- which categroy has the highest charges on average."
   ]
  },
  {
   "cell_type": "markdown",
   "id": "f5a34e6c",
   "metadata": {},
   "source": [
    "1. Find out if dataset represents everyone fairly"
   ]
  },
  {
   "cell_type": "code",
   "execution_count": 30,
   "id": "b0e61942",
   "metadata": {},
   "outputs": [
    {
     "name": "stdout",
     "output_type": "stream",
     "text": [
      "There are a total of 1338 records in the dataset.In this dataset 50.52% of patitens have their sex as male and 49.48% as female.\n"
     ]
    }
   ],
   "source": [
    "# total records in dataset\n",
    "def total_records(record_lst):\n",
    "    all_records = len(record_lst)\n",
    "    return \"There are a total of \" + str(all_records) + \" records in the dataset.\"\n",
    "\n",
    "\n",
    "def male_female_rep(male_female_list):\n",
    "    male = 0\n",
    "    female = 0\n",
    "    for mf in male_female_list:\n",
    "        if mf == \"male\":\n",
    "            male += 1\n",
    "        if mf == \"female\":\n",
    "            female += 1\n",
    "    m_percent = round(((male/len(male_female_list)) * 100), 2)\n",
    "    f_percent = round(((female/len(male_female_list)) * 100), 2)\n",
    "    return f\"In this dataset {m_percent}% of patitens have their sex as male and {f_percent}% as female.\"\n",
    "      \n",
    "total_and_malefemale =  total_records(insurance_dict.show_dict) + male_female_rep(insurance_dict.sex)\n",
    "print(total_and_malefemale)"
   ]
  },
  {
   "cell_type": "code",
   "execution_count": 16,
   "id": "7e7cdfee",
   "metadata": {},
   "outputs": [
    {
     "name": "stdout",
     "output_type": "stream",
     "text": [
      "{'southwest': 325, 'southeast': 364, 'northwest': 325, 'northeast': 324}\n"
     ]
    }
   ],
   "source": [
    "# find each ragion\n",
    "\n",
    "unique_region = []\n",
    "for i in insurance_dict.region:\n",
    "    if i not in unique_region:\n",
    "        unique_region.append(i)\n",
    "# print(unique_region)\n",
    "\n",
    "#count how many patients in each region\n",
    "\n",
    "def patient_region(region_lst):\n",
    "    region_dict = {'southwest': 0, 'southeast': 0, 'northwest': 0, 'northeast': 0}\n",
    "    for regions in region_lst:\n",
    "        if regions == 'southwest':\n",
    "            region_dict[\"southwest\"] +=1\n",
    "        elif regions == 'southeast':\n",
    "            region_dict[\"southeast\"] +=1\n",
    "        elif regions == 'northwest':\n",
    "            region_dict[\"northwest\"] +=1\n",
    "        elif regions == 'northeast':\n",
    "            region_dict['northeast'] +=1  \n",
    "    return region_dict\n",
    "regions_dicts = patient_region(insurance_dict.region)\n",
    "print(regions_dicts)"
   ]
  },
  {
   "cell_type": "code",
   "execution_count": null,
   "id": "da1a4f0e",
   "metadata": {},
   "outputs": [],
   "source": []
  },
  {
   "cell_type": "code",
   "execution_count": null,
   "id": "9beaad3b",
   "metadata": {},
   "outputs": [],
   "source": []
  },
  {
   "cell_type": "code",
   "execution_count": null,
   "id": "2df396b1",
   "metadata": {},
   "outputs": [],
   "source": []
  },
  {
   "cell_type": "markdown",
   "id": "9e5a55d4",
   "metadata": {},
   "source": [
    "# Tests"
   ]
  },
  {
   "cell_type": "code",
   "execution_count": 8,
   "id": "3efb4a43",
   "metadata": {},
   "outputs": [
    {
     "name": "stdout",
     "output_type": "stream",
     "text": [
      "      age     sex     bmi  children smoker     region      charges\n",
      "0      19  female  27.900         0    yes  southwest  16884.92400\n",
      "1      18    male  33.770         1     no  southeast   1725.55230\n",
      "2      28    male  33.000         3     no  southeast   4449.46200\n",
      "3      33    male  22.705         0     no  northwest  21984.47061\n",
      "4      32    male  28.880         0     no  northwest   3866.85520\n",
      "...   ...     ...     ...       ...    ...        ...          ...\n",
      "1333   50    male  30.970         3     no  northwest  10600.54830\n",
      "1334   18  female  31.920         0     no  northeast   2205.98080\n",
      "1335   18  female  36.850         0     no  southeast   1629.83350\n",
      "1336   21  female  25.800         0     no  southwest   2007.94500\n",
      "1337   61  female  29.070         0    yes  northwest  29141.36030\n",
      "\n",
      "[1338 rows x 7 columns]\n"
     ]
    }
   ],
   "source": [
    "readcsv = pd.read_csv(\"C:\\\\Users\\\\luisl\\\\OneDrive\\\\Documents\\\\insurance.csv\")\n",
    "print(readcsv)"
   ]
  },
  {
   "cell_type": "code",
   "execution_count": 9,
   "id": "712fab17",
   "metadata": {},
   "outputs": [
    {
     "name": "stdout",
     "output_type": "stream",
     "text": [
      "               age          bmi     children       charges\n",
      "count  1338.000000  1338.000000  1338.000000   1338.000000\n",
      "mean     39.207025    30.663397     1.094918  13270.422265\n",
      "std      14.049960     6.098187     1.205493  12110.011237\n",
      "min      18.000000    15.960000     0.000000   1121.873900\n",
      "25%      27.000000    26.296250     0.000000   4740.287150\n",
      "50%      39.000000    30.400000     1.000000   9382.033000\n",
      "75%      51.000000    34.693750     2.000000  16639.912515\n",
      "max      64.000000    53.130000     5.000000  63770.428010\n"
     ]
    }
   ],
   "source": [
    "df = pd.DataFrame(readcsv)\n",
    "print(df.describe())"
   ]
  },
  {
   "cell_type": "code",
   "execution_count": 10,
   "id": "8dbbfd8f",
   "metadata": {},
   "outputs": [
    {
     "data": {
      "text/plain": [
       "age         0\n",
       "sex         0\n",
       "bmi         0\n",
       "children    0\n",
       "smoker      0\n",
       "region      0\n",
       "charges     0\n",
       "dtype: int64"
      ]
     },
     "execution_count": 10,
     "metadata": {},
     "output_type": "execute_result"
    }
   ],
   "source": [
    "readcsv.isnull().sum()"
   ]
  },
  {
   "cell_type": "code",
   "execution_count": 43,
   "id": "949d4ec1",
   "metadata": {},
   "outputs": [
    {
     "name": "stdout",
     "output_type": "stream",
     "text": [
      "female\n"
     ]
    }
   ],
   "source": []
  }
 ],
 "metadata": {
  "kernelspec": {
   "display_name": "Python 3 (ipykernel)",
   "language": "python",
   "name": "python3"
  },
  "language_info": {
   "codemirror_mode": {
    "name": "ipython",
    "version": 3
   },
   "file_extension": ".py",
   "mimetype": "text/x-python",
   "name": "python",
   "nbconvert_exporter": "python",
   "pygments_lexer": "ipython3",
   "version": "3.9.7"
  }
 },
 "nbformat": 4,
 "nbformat_minor": 5
}
