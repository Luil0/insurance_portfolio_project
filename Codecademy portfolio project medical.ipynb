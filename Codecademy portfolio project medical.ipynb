{
 "cells": [
  {
   "cell_type": "markdown",
   "id": "9abdbd30",
   "metadata": {},
   "source": [
    "# Codecademy insurance portfolio project"
   ]
  },
  {
   "cell_type": "markdown",
   "id": "841bc277",
   "metadata": {},
   "source": [
    "In this project I will be using data from a cvs with medical insurance costs. I will analyze the data and its attributes to understand patient information with the costs. First we will start by importing the libraries we will need."
   ]
  },
  {
   "cell_type": "code",
   "execution_count": 1,
   "id": "7f98c63b",
   "metadata": {},
   "outputs": [],
   "source": [
    "import csv"
   ]
  },
  {
   "cell_type": "markdown",
   "id": "ba1aa928",
   "metadata": {},
   "source": [
    "Next open and read the data inside the csv file."
   ]
  },
  {
   "cell_type": "code",
   "execution_count": 2,
   "id": "9442f6cd",
   "metadata": {},
   "outputs": [
    {
     "ename": "SyntaxError",
     "evalue": "(unicode error) 'unicodeescape' codec can't decode bytes in position 2-3: truncated \\UXXXXXXXX escape (Temp/ipykernel_9880/225018315.py, line 1)",
     "output_type": "error",
     "traceback": [
      "\u001b[1;36m  File \u001b[1;32m\"C:\\Users\\luisl\\AppData\\Local\\Temp/ipykernel_9880/225018315.py\"\u001b[1;36m, line \u001b[1;32m1\u001b[0m\n\u001b[1;33m    with open(\"C:\\Users\\luisl\\OneDrive\\Documents\\insurance_csv_.csv\", \"r\") as insurance_csv_file:\u001b[0m\n\u001b[1;37m                                                                    ^\u001b[0m\n\u001b[1;31mSyntaxError\u001b[0m\u001b[1;31m:\u001b[0m (unicode error) 'unicodeescape' codec can't decode bytes in position 2-3: truncated \\UXXXXXXXX escape\n"
     ]
    }
   ],
   "source": [
    "with open(\"C:\\Users\\luisl\\OneDrive\\Documents\\insurance_csv_.csv\", \"r\") as insurance_csv_file:\n",
    "    print(insurance_csv_file)"
   ]
  },
  {
   "cell_type": "code",
   "execution_count": null,
   "id": "60ab53ac",
   "metadata": {},
   "outputs": [],
   "source": []
  }
 ],
 "metadata": {
  "kernelspec": {
   "display_name": "Python 3 (ipykernel)",
   "language": "python",
   "name": "python3"
  },
  "language_info": {
   "codemirror_mode": {
    "name": "ipython",
    "version": 3
   },
   "file_extension": ".py",
   "mimetype": "text/x-python",
   "name": "python",
   "nbconvert_exporter": "python",
   "pygments_lexer": "ipython3",
   "version": "3.9.7"
  }
 },
 "nbformat": 4,
 "nbformat_minor": 5
}
